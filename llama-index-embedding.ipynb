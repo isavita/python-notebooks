{
 "cells": [
  {
   "cell_type": "code",
   "execution_count": 117,
   "id": "1471333d-18c5-4458-8e93-8a5dcb14d07d",
   "metadata": {},
   "outputs": [],
   "source": [
    "!pip install -q langchain\n",
    "!pip install -q langchain-community\n",
    "!pip install -q langchain-core\n",
    "!pip install -q llama-index\n",
    "!pip install -q llama-index-embeddings-ollama\n",
    "!pip install -q chromadb"
   ]
  },
  {
   "cell_type": "code",
   "execution_count": 13,
   "id": "19f34810-0b42-4558-9f08-1af2eb4aed94",
   "metadata": {},
   "outputs": [],
   "source": [
    "import os\n",
    "# os.environ['OPENAI_API_KEY'] = os.environ.get('OPENAI_API_KEY')"
   ]
  },
  {
   "cell_type": "code",
   "execution_count": 19,
   "id": "6b41b102-c27d-4e05-8d2f-bbe250f823b9",
   "metadata": {},
   "outputs": [],
   "source": [
    "from llama_index.embeddings.ollama import OllamaEmbedding"
   ]
  },
  {
   "cell_type": "code",
   "execution_count": 65,
   "id": "8cc73d84-ec82-439d-b2c3-ba346f3892a8",
   "metadata": {},
   "outputs": [],
   "source": [
    "embed_model1 = OllamaEmbedding(\n",
    "    model_name='llama2',\n",
    "    base_url='http://localhost:11434',\n",
    "    ollama_additional_kwargs={'mirostat': 0},\n",
    ")"
   ]
  },
  {
   "cell_type": "code",
   "execution_count": 66,
   "id": "53d38e4c-512f-4d49-b098-25c62ae4ba0a",
   "metadata": {},
   "outputs": [
    {
     "data": {
      "application/vnd.jupyter.widget-view+json": {
       "model_id": "451a544da970499ba81f774c3f2cee45",
       "version_major": 2,
       "version_minor": 0
      },
      "text/plain": [
       "Generating embeddings:   0%|          | 0/2 [00:00<?, ?it/s]"
      ]
     },
     "metadata": {},
     "output_type": "display_data"
    },
    {
     "data": {
      "text/plain": [
       "4096"
      ]
     },
     "execution_count": 66,
     "metadata": {},
     "output_type": "execute_result"
    }
   ],
   "source": [
    "embed_model1.get_text_embedding_batch(\n",
    "    [\"This is an example!\", \"This is another example\"], show_progress=True\n",
    ")\n",
    "q1 = embed_model1.get_query_embedding(\"Why is the sky blue?\")\n",
    "len(q1)"
   ]
  },
  {
   "cell_type": "code",
   "execution_count": 67,
   "id": "788ad381-787d-4e31-bedb-ee4da1909b97",
   "metadata": {},
   "outputs": [],
   "source": [
    "embed_model2 = OllamaEmbedding(\n",
    "    model_name='nomic-embed-text',\n",
    "    base_url='http://localhost:11434',\n",
    "    ollama_additional_kwargs={'mirostat': 0},\n",
    ")"
   ]
  },
  {
   "cell_type": "code",
   "execution_count": 58,
   "id": "b4801093-caf1-4143-8bf1-e78fe971290a",
   "metadata": {},
   "outputs": [
    {
     "data": {
      "application/vnd.jupyter.widget-view+json": {
       "model_id": "d119ea8a6bbc43d7b6dfb84448763b9f",
       "version_major": 2,
       "version_minor": 0
      },
      "text/plain": [
       "Generating embeddings:   0%|          | 0/2 [00:00<?, ?it/s]"
      ]
     },
     "metadata": {},
     "output_type": "display_data"
    },
    {
     "data": {
      "text/plain": [
       "768"
      ]
     },
     "execution_count": 58,
     "metadata": {},
     "output_type": "execute_result"
    }
   ],
   "source": [
    "embed_model2.get_text_embedding_batch(\n",
    "    [\"This is an example!\", \"This is another example\"], show_progress=True\n",
    ")\n",
    "q2 = embed_model2.get_query_embedding(\"Why is the sky blue?\")\n",
    "len(q2)"
   ]
  },
  {
   "cell_type": "code",
   "execution_count": 68,
   "id": "7ea703cd-1aed-4442-90c4-3172efacef72",
   "metadata": {},
   "outputs": [],
   "source": [
    "embed_model3 = OllamaEmbedding(\n",
    "    model_name='mxbai-embed-large',\n",
    "    base_url='http://localhost:11434',\n",
    "    ollama_additional_kwargs={'mirostat': 0},\n",
    ")"
   ]
  },
  {
   "cell_type": "code",
   "execution_count": 69,
   "id": "8a8a8883-3a56-4b90-a0aa-a3ae4e7d639e",
   "metadata": {},
   "outputs": [
    {
     "data": {
      "application/vnd.jupyter.widget-view+json": {
       "model_id": "6dc0928917294e5a8928a57f6e4718fe",
       "version_major": 2,
       "version_minor": 0
      },
      "text/plain": [
       "Generating embeddings:   0%|          | 0/2 [00:00<?, ?it/s]"
      ]
     },
     "metadata": {},
     "output_type": "display_data"
    },
    {
     "data": {
      "text/plain": [
       "1024"
      ]
     },
     "execution_count": 69,
     "metadata": {},
     "output_type": "execute_result"
    }
   ],
   "source": [
    "embed_model3.get_text_embedding_batch(\n",
    "    [\"This is an example!\", \"This is another example\"], show_progress=True\n",
    ")\n",
    "q3 = embed_model3.get_query_embedding(\"Why is the sky blue?\")\n",
    "len(q3)"
   ]
  },
  {
   "cell_type": "code",
   "execution_count": 71,
   "id": "3f581647-8fea-4c28-8a01-99954ddb123b",
   "metadata": {},
   "outputs": [],
   "source": [
    "embed_model4 = OllamaEmbedding(\n",
    "    model_name='stable-code',\n",
    "    base_url='http://localhost:11434',\n",
    "    ollama_additional_kwargs={'mirostat': 0},\n",
    ")"
   ]
  },
  {
   "cell_type": "code",
   "execution_count": 70,
   "id": "42d0930d-cc42-4643-a8b2-8aa489ec077a",
   "metadata": {},
   "outputs": [],
   "source": [
    "# embed_model4.get_text_embedding_batch(\n",
    "#     [\"This is an example!\", \"This is another example\"], show_progress=True\n",
    "# )\n",
    "# q4 = embed_model4.get_query_embedding(\"Why is the sky blue?\")\n",
    "# len(q4)"
   ]
  },
  {
   "cell_type": "code",
   "execution_count": 118,
   "id": "e70d6a8a-3e83-40e5-abb9-b5dc4eda0d68",
   "metadata": {},
   "outputs": [],
   "source": [
    "from langchain_community.document_loaders import WebBaseLoader\n",
    "from langchain_community.vectorstores import Chroma\n",
    "from langchain_community import embeddings\n",
    "from langchain_community.chat_models import ChatOllama\n",
    "from langchain_core.runnables import RunnablePassthrough\n",
    "from langchain_core.output_parsers import StrOutputParser\n",
    "from langchain_core.prompts import ChatPromptTemplate\n",
    "from langchain.text_splitter import CharacterTextSplitter"
   ]
  },
  {
   "cell_type": "code",
   "execution_count": 97,
   "id": "87174bbc-7414-452a-8793-0d8c25704433",
   "metadata": {},
   "outputs": [],
   "source": [
    "model = ChatOllama(model=\"llama3\")"
   ]
  },
  {
   "cell_type": "code",
   "execution_count": 105,
   "id": "1c79005a-23bf-41c8-82fe-1250c2a8635a",
   "metadata": {},
   "outputs": [],
   "source": [
    "urls = [\n",
    "    \"https://adventofcode.com/2015/day/1\",\n",
    "    \"https://adventofcode.com/2022/day/11\",\n",
    "    \"https://adventofcode.com/2015/day/7\",\n",
    "    \"https://adventofcode.com/2023/day/21\",\n",
    "]\n",
    "docs = [WebBaseLoader(url).load() for url in urls]\n",
    "docs_list = [item for sublist in docs for item in sublist]"
   ]
  },
  {
   "cell_type": "code",
   "execution_count": 109,
   "id": "2221e109-299e-4e58-ac92-234868d477d9",
   "metadata": {},
   "outputs": [],
   "source": [
    "text_splitter = CharacterTextSplitter.from_tiktoken_encoder(chunk_size=1500, chunk_overlap=100)\n",
    "doc_splits = text_splitter.split_documents(docs_list)"
   ]
  },
  {
   "cell_type": "code",
   "execution_count": 119,
   "id": "f4e34cc9-68b7-433e-b368-101368b9863e",
   "metadata": {},
   "outputs": [],
   "source": [
    "vectorstore = Chroma.from_documents(\n",
    "    documents=doc_splits,\n",
    "    collection_name=\"rag-advent\",\n",
    "    embedding=embeddings.OllamaEmbeddings(model=\"nomic-embed-text\"),\n",
    ")"
   ]
  },
  {
   "cell_type": "code",
   "execution_count": 120,
   "id": "68f3c5d2-b81a-4f63-8edd-73b709615c17",
   "metadata": {},
   "outputs": [],
   "source": [
    "retriever = vectorstore.as_retriever()"
   ]
  },
  {
   "cell_type": "code",
   "execution_count": 123,
   "id": "ac162fe4-3596-43eb-ba62-946f412d8ef6",
   "metadata": {},
   "outputs": [
    {
     "name": "stdout",
     "output_type": "stream",
     "text": [
      "Before RAG\n",
      "A great question!\n",
      "\n",
      "Advent of Code Day 11: \"Spin Metal\" (2021) is a programming puzzle that involves analyzing and manipulating metal spinning patterns.\n",
      "\n",
      "In this problem, you're given a series of instructions to spin metal into different shapes. The goal is to determine the total number of units of each type of metal that will be produced after following these instructions.\n",
      "\n",
      "The input data consists of a sequence of lines, where each line represents an instruction to spin metal. Each line starts with a letter indicating the type of metal (A, B, or C), followed by the number of units to produce, and then either \"add\" or \"remove\" depending on whether you need to add or remove units from the current production.\n",
      "\n",
      "Your task is to write a program that can parse these instructions and calculate the total number of each type of metal produced. The solution involves using a simple counter approach and some basic arithmetic operations.\n",
      "\n",
      "If you're interested in learning more, I encourage you to check out the official Advent of Code website, where you'll find the full problem description, sample inputs, and a hint to get started!\n"
     ]
    }
   ],
   "source": [
    "print(\"Before RAG\")\n",
    "before_rag_template = \"What is Advent of Code day {day} task about?\"\n",
    "before_rag_propmt_template = ChatPromptTemplate.from_template(before_rag_template)\n",
    "before_rag_chain = before_rag_propmt_template | model | StrOutputParser()\n",
    "print(before_rag_chain.invoke({\"day\": 11}))"
   ]
  },
  {
   "cell_type": "code",
   "execution_count": 124,
   "id": "4f2275b5-2a8d-484e-8f4b-d60629dd8ef3",
   "metadata": {},
   "outputs": [
    {
     "name": "stdout",
     "output_type": "stream",
     "text": [
      "After RAG\n",
      "Advent of Code is an annual Christmas-themed programming challenge that was created by Eric Meyer, a computer scientist and author. The challenge consists of 25 small programming puzzles, released one per day from December 1st to December 25th.\n",
      "\n",
      "Day 11 is one of the tasks in Advent of Code. Here's a brief summary:\n",
      "\n",
      "**Day 11:**\n",
      "\n",
      "Title: \"Monkey in the Middle\"\n",
      "\n",
      "You're given a set of monkey notes that describe how each monkey moves around and interacts with the other monkeys. Each monkey has its own rules for moving items (called \"items\" or \"worry levels\") into their home trees.\n",
      "\n",
      "The goal is to simulate the monkeys' behavior over several rounds, keeping track of the total worry level in all the monkeys' home trees. The worry level is calculated based on the sum of the item values and a set of simple arithmetic operations (addition, multiplication, squaring).\n",
      "\n",
      "The task requires you to write a program that takes the monkey notes as input, simulates the monkeys' behavior, and returns the total worry level in all the monkeys' home trees after 20 rounds.\n",
      "\n",
      "You can find more details about Day 11 and all the other Advent of Code challenges on the official website: <https://adventofcode.com/>\n",
      "\n",
      "Are you ready to tackle this problem?\n"
     ]
    }
   ],
   "source": [
    "print(\"After RAG\")\n",
    "rag_template = \"\"\"Here is some context that might help you answer the question:\n",
    "\\n\\n{context}\\n\\n\n",
    "Question: {question}\n",
    "\"\"\"\n",
    "rag_propmt_template = ChatPromptTemplate.from_template(rag_template)\n",
    "rag_chain = {\"context\": retriever, \"question\": RunnablePassthrough()} | (rag_propmt_template | model | StrOutputParser())\n",
    "print(before_rag_chain.invoke(\"What is Advent of Code day 11} task about?\"))"
   ]
  },
  {
   "cell_type": "code",
   "execution_count": null,
   "id": "8f7e6e50-6c87-4355-ac24-e8e6c52592ee",
   "metadata": {},
   "outputs": [],
   "source": []
  }
 ],
 "metadata": {
  "kernelspec": {
   "display_name": "Python 3 (ipykernel)",
   "language": "python",
   "name": "python3"
  },
  "language_info": {
   "codemirror_mode": {
    "name": "ipython",
    "version": 3
   },
   "file_extension": ".py",
   "mimetype": "text/x-python",
   "name": "python",
   "nbconvert_exporter": "python",
   "pygments_lexer": "ipython3",
   "version": "3.12.3"
  }
 },
 "nbformat": 4,
 "nbformat_minor": 5
}
